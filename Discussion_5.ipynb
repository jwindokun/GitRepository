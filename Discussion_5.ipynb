{
 "cells": [
  {
   "cell_type": "markdown",
   "metadata": {},
   "source": [
    "# Discussion 5: network-based recommenders"
   ]
  },
  {
   "cell_type": "markdown",
   "metadata": {},
   "source": [
    "## Article to be discussed: Social networks and interest similarity: the case of CiteULike"
   ]
  },
  {
   "cell_type": "markdown",
   "metadata": {},
   "source": [
    "# Introduction\n",
    "Recommender systems seek to understand user preferences for items (using machine learning algorithms) and then recommend or predict new items for users. The premise is that this reduces the  search space that the user has investigate and is therefore beneficial to user. Business also see this as a way to improve sales (business use) by recommending items that users might like to purchase.\n",
    "Traditionally, Collaborative Filtering (CF) whether user-user or item-item, is based on finding similarities between users or items and then recommending/predicting those that are closest to them. \n",
    "These machine leaning algorithms have relied on matrix factorization (SVD, PCA, ALS) due to the rather large dimensions of data points, and the extreme sparsity of data. The sparsity of data makes it rather difficult to calculate and factorize these matrices in real time, and in addition, the recommendations /predictions find it difficult to take into consideration the context.\n",
    "Graph Theory is an alternative that allows relationships between objects to be easier defined and it is not constrained by the limitations of relational databases.\n",
    "Graphs also make it much easier to query the underlying data to figure out relationships between users and items, while this can be performed relational databases, the joins required become very complex and computationally expensive\n"
   ]
  },
  {
   "cell_type": "markdown",
   "metadata": {},
   "source": [
    "## Discussion\n",
    "\n",
    "Lee & Brusilovsky (2010), in their paper discuss the use of social recommendation technologies in addition to CF to improve recommendations that users receive.\n",
    "For their study they used data from www.citeulike.org/ which is a “collaborative tagging system”, that allows its users to tag articles that they find interesting. These tags are then used in CF to recommend articles that might interest the user. However in addition to this, users are allowed to “watch” (follow in Facebook parlance) other users, and when they do this, articles that the followed user has on their bookshelf also becomes part of the watcher’s bookshelf.\n",
    "As expected they did find that users that had “watches” had a lot more articles on their bookshelf, had more tags in common, and were more similar.\n",
    "They also found that users that were watched a lot seemed to be more “information rich”, and were probably points of leverage.\n",
    "They also noted that the number of nodes between users directly correlated to the degree of similarity \n",
    "Symeonidis, Tiakas, & Manolopoulos (2011), take this concept even further and state that factors such as local and global characteristics such as density, user profile density, node structures should all be considered when using graph as an adjunct to the standard CF recommendations. They state that their method yields more accurate recommendation results.\n"
   ]
  },
  {
   "cell_type": "markdown",
   "metadata": {},
   "source": [
    "## Summary\n",
    "Improving Recommendations/Predictions is an ongoing endeavor for the benefit of both the individual user and the organization. Content Filter Methods are presently the gold standard, but they do have limitations. The use Social Networks and Graph Theory allows much more implicit and explicit information about the user to be taken into context and allows much better recommendations/predictions.\n",
    "However, it must be noted that The Strength of Weak Ties is lost when social networks are optimized. The Strength of Weak Ties was first discovered by Granovetter, M. S. (1973) and it states that:\n",
    "\n",
    "    It is the people with whom we are the least connected who offer us the most opportunities.\n",
    "    https://www.youtube.com/watch?v=-Bm93gN1zJg\n",
    "Using social networks and Graph Theory as part of a recommendation package limits the outside information that the user receives because of the loss of “Weak ties”, this has been noted in the job market and dating arena, as those with strong social ties are limited in their choices due to the reduction in information that follows into their network.\n"
   ]
  },
  {
   "cell_type": "markdown",
   "metadata": {},
   "source": [
    "## References\n",
    "Lee, D. H., & Brusilovsky, P. (2010). Social Networks and Interest Similarity: The Case of CiteULike. In Proceedings of the 21st ACM Conference on Hypertext and Hypermedia (pp. 151–156). New York, NY, USA: ACM. http://doi.org/10.1145/1810617.1810643\n",
    "\n",
    "Symeonidis, P., Tiakas, E., & Manolopoulos, Y. (2011). Product Recommendation and Rating Prediction Based on Multi-modal Social Networks. In Proceedings of the Fifth ACM Conference on Recommender Systems (pp. 61–68). New York, NY, USA: ACM. http://doi.org/10.1145/2043932.2043947\n",
    "\n",
    "Granovetter, M. S. (1973). The Strength of Weak Ties. American Journal of Sociology, 78(6), 1360–1380.\n",
    "\n",
    "\n",
    "\n"
   ]
  },
  {
   "cell_type": "code",
   "execution_count": null,
   "metadata": {
    "collapsed": true
   },
   "outputs": [],
   "source": []
  }
 ],
 "metadata": {
  "kernelspec": {
   "display_name": "Python 2",
   "language": "python",
   "name": "python2"
  },
  "language_info": {
   "codemirror_mode": {
    "name": "ipython",
    "version": 2
   },
   "file_extension": ".py",
   "mimetype": "text/x-python",
   "name": "python",
   "nbconvert_exporter": "python",
   "pygments_lexer": "ipython2",
   "version": "2.7.11"
  },
  "widgets": {
   "state": {},
   "version": "1.1.2"
  }
 },
 "nbformat": 4,
 "nbformat_minor": 0
}
